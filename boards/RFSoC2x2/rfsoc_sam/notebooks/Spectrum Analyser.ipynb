{
 "cells": [
  {
   "cell_type": "markdown",
   "metadata": {},
   "source": [
    "# Spectrum Analyser on PYNQ\n",
    "Run the code cell below to use the spectrum analyser. When the spectrum analyser appears, always ensure that the DMA Transfer button is set to off when reprogramming the bitstream, restarting the overlay, or resetting the development board.\n",
    "\n",
    "You should change your Jupyter environment to dark mode. (Settings >> Jupyter Theme >> JupyterLab Dark)"
   ]
  },
  {
   "cell_type": "code",
   "execution_count": null,
   "metadata": {},
   "outputs": [],
   "source": [
    "from rfsoc_sam import SamOverlay\n",
    "\n",
    "fpga = SamOverlay(init_rf_clks = True)\n",
    "\n",
    "fpga.radio.get_spectrum_analyser()"
   ]
  }
 ],
 "metadata": {
  "kernelspec": {
   "display_name": "Python 3",
   "language": "python",
   "name": "python3"
  },
  "language_info": {
   "codemirror_mode": {
    "name": "ipython",
    "version": 3
   },
   "file_extension": ".py",
   "mimetype": "text/x-python",
   "name": "python",
   "nbconvert_exporter": "python",
   "pygments_lexer": "ipython3",
   "version": "3.6.5"
  }
 },
 "nbformat": 4,
 "nbformat_minor": 4
}
