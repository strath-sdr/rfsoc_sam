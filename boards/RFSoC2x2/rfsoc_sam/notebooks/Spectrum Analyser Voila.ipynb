{
 "cells": [
  {
   "cell_type": "code",
   "execution_count": null,
   "metadata": {},
   "outputs": [],
   "source": [
    "from rfsoc_sam import SpectrumAnalyserOverlay\n",
    "\n",
    "ol = SpectrumAnalyserOverlay(init_rf_clks=True)"
   ]
  },
  {
   "cell_type": "code",
   "execution_count": null,
   "metadata": {},
   "outputs": [],
   "source": [
    "from spectrum_analyser import SpectrumAnalyser\n",
    "\n",
    "sa = SpectrumAnalyser(ol.adc_block,\n",
    "                      ol.adc_tile,\n",
    "                      ol.mw_autodma,\n",
    "                      ol.mw_ssrconverter,\n",
    "                      ol.mw_spectrumanalyser,\n",
    "                      dark_mode = True)\n",
    "\n",
    "sa.get_analyser()"
   ]
  }
 ],
 "metadata": {
  "kernelspec": {
   "display_name": "Python 3",
   "language": "python",
   "name": "python3"
  },
  "language_info": {
   "codemirror_mode": {
    "name": "ipython",
    "version": 3
   },
   "file_extension": ".py",
   "mimetype": "text/x-python",
   "name": "python",
   "nbconvert_exporter": "python",
   "pygments_lexer": "ipython3",
   "version": "3.6.5"
  }
 },
 "nbformat": 4,
 "nbformat_minor": 4
}
